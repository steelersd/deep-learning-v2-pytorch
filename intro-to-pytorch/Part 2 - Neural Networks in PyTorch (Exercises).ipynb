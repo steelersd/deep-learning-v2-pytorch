{
 "cells": [
  {
   "cell_type": "markdown",
   "metadata": {},
   "source": [
    "# Neural networks with PyTorch\n",
    "\n",
    "Deep learning networks tend to be massive with dozens or hundreds of layers, that's where the term \"deep\" comes from. You can build one of these deep networks using only weight matrices as we did in the previous notebook, but in general it's very cumbersome and difficult to implement. PyTorch has a nice module `nn` that provides a nice way to efficiently build large neural networks."
   ]
  },
  {
   "cell_type": "code",
   "execution_count": 1,
   "metadata": {},
   "outputs": [],
   "source": [
    "# Import necessary packages\n",
    "\n",
    "%matplotlib inline\n",
    "%config InlineBackend.figure_format = 'retina'\n",
    "\n",
    "import numpy as np\n",
    "import torch\n",
    "\n",
    "import helper\n",
    "\n",
    "import matplotlib.pyplot as plt"
   ]
  },
  {
   "cell_type": "markdown",
   "metadata": {},
   "source": [
    "\n",
    "Now we're going to build a larger network that can solve a (formerly) difficult problem, identifying text in an image. Here we'll use the MNIST dataset which consists of greyscale handwritten digits. Each image is 28x28 pixels, you can see a sample below\n",
    "\n",
    "<img src='assets/mnist.png'>\n",
    "\n",
    "Our goal is to build a neural network that can take one of these images and predict the digit in the image.\n",
    "\n",
    "First up, we need to get our dataset. This is provided through the `torchvision` package. The code below will download the MNIST dataset, then create training and test datasets for us. Don't worry too much about the details here, you'll learn more about this later."
   ]
  },
  {
   "cell_type": "code",
   "execution_count": 2,
   "metadata": {},
   "outputs": [
    {
     "name": "stderr",
     "output_type": "stream",
     "text": [
      "0.1%"
     ]
    },
    {
     "name": "stdout",
     "output_type": "stream",
     "text": [
      "Downloading http://yann.lecun.com/exdb/mnist/train-images-idx3-ubyte.gz to /Users/adam/.pytorch/MNIST_data/MNIST/raw/train-images-idx3-ubyte.gz\n"
     ]
    },
    {
     "name": "stderr",
     "output_type": "stream",
     "text": [
      "100.1%"
     ]
    },
    {
     "name": "stdout",
     "output_type": "stream",
     "text": [
      "Extracting /Users/adam/.pytorch/MNIST_data/MNIST/raw/train-images-idx3-ubyte.gz\n"
     ]
    },
    {
     "name": "stderr",
     "output_type": "stream",
     "text": [
      "113.5%"
     ]
    },
    {
     "name": "stdout",
     "output_type": "stream",
     "text": [
      "Downloading http://yann.lecun.com/exdb/mnist/train-labels-idx1-ubyte.gz to /Users/adam/.pytorch/MNIST_data/MNIST/raw/train-labels-idx1-ubyte.gz\n",
      "Extracting /Users/adam/.pytorch/MNIST_data/MNIST/raw/train-labels-idx1-ubyte.gz\n",
      "Downloading http://yann.lecun.com/exdb/mnist/t10k-images-idx3-ubyte.gz to /Users/adam/.pytorch/MNIST_data/MNIST/raw/t10k-images-idx3-ubyte.gz\n"
     ]
    },
    {
     "name": "stderr",
     "output_type": "stream",
     "text": [
      "180.4%"
     ]
    },
    {
     "name": "stdout",
     "output_type": "stream",
     "text": [
      "Extracting /Users/adam/.pytorch/MNIST_data/MNIST/raw/t10k-images-idx3-ubyte.gz\n",
      "Downloading http://yann.lecun.com/exdb/mnist/t10k-labels-idx1-ubyte.gz to /Users/adam/.pytorch/MNIST_data/MNIST/raw/t10k-labels-idx1-ubyte.gz\n",
      "Extracting /Users/adam/.pytorch/MNIST_data/MNIST/raw/t10k-labels-idx1-ubyte.gz\n",
      "Processing...\n",
      "Done!\n"
     ]
    }
   ],
   "source": [
    "### Run this cell\n",
    "\n",
    "from torchvision import datasets, transforms\n",
    "\n",
    "# Define a transform to normalize the data\n",
    "transform = transforms.Compose([transforms.ToTensor(),\n",
    "                              transforms.Normalize((0.5,), (0.5,)),\n",
    "                              ])\n",
    "\n",
    "# Download and load the training data\n",
    "trainset = datasets.MNIST('~/.pytorch/MNIST_data/', download=True, train=True, transform=transform)\n",
    "trainloader = torch.utils.data.DataLoader(trainset, batch_size=64, shuffle=True)"
   ]
  },
  {
   "cell_type": "markdown",
   "metadata": {},
   "source": [
    "We have the training data loaded into `trainloader` and we make that an iterator with `iter(trainloader)`. Later, we'll use this to loop through the dataset for training, like\n",
    "\n",
    "```python\n",
    "for image, label in trainloader:\n",
    "    ## do things with images and labels\n",
    "```\n",
    "\n",
    "You'll notice I created the `trainloader` with a batch size of 64, and `shuffle=True`. The batch size is the number of images we get in one iteration from the data loader and pass through our network, often called a *batch*. And `shuffle=True` tells it to shuffle the dataset every time we start going through the data loader again. But here I'm just grabbing the first batch so we can check out the data. We can see below that `images` is just a tensor with size `(64, 1, 28, 28)`. So, 64 images per batch, 1 color channel, and 28x28 images."
   ]
  },
  {
   "cell_type": "code",
   "execution_count": 22,
   "metadata": {},
   "outputs": [
    {
     "name": "stdout",
     "output_type": "stream",
     "text": [
      "<class 'torch.Tensor'>\n",
      "torch.Size([64, 1, 28, 28])\n",
      "torch.Size([64])\n",
      "tensor([5, 2, 4, 9, 7, 6, 1, 1, 6, 8, 2, 2, 6, 3, 9, 3, 3, 3, 9, 7, 8, 5, 8, 6,\n",
      "        2, 7, 3, 0, 7, 1, 2, 0, 7, 0, 0, 7, 1, 8, 8, 2, 1, 5, 6, 6, 5, 6, 8, 8,\n",
      "        3, 1, 3, 1, 1, 1, 0, 0, 1, 5, 7, 3, 7, 3, 3, 4])\n",
      "torch.Size([784])\n"
     ]
    }
   ],
   "source": [
    "dataiter = iter(trainloader)\n",
    "images, labels = dataiter.next()\n",
    "print(type(images))\n",
    "print(images.shape)\n",
    "print(labels.shape)\n",
    "print(labels)\n",
    "print(torch.flatten(images[0]).shape)\n",
    "# print(torch.flatten(images[0],2))\n",
    "# torch.flatten()"
   ]
  },
  {
   "cell_type": "code",
   "execution_count": 32,
   "metadata": {},
   "outputs": [
    {
     "data": {
      "text/plain": [
       "torch.Size([64, 784])"
      ]
     },
     "execution_count": 32,
     "metadata": {},
     "output_type": "execute_result"
    }
   ],
   "source": [
    "inputs = images.view(images.shape[0], -1)\n",
    "\n",
    "inputs.shape\n",
    "# images.shape"
   ]
  },
  {
   "cell_type": "code",
   "execution_count": 66,
   "metadata": {},
   "outputs": [],
   "source": [
    "## Copied from Solution\n",
    "def activation(x):\n",
    "    return 1/(1+torch.exp(-x))\n",
    "\n",
    "# Flatten the input images\n",
    "inputs = images.view(images.shape[0], -1)\n",
    "\n",
    "# Create parameters\n",
    "w1 = torch.randn(784, 256)\n",
    "b1 = torch.randn(256)\n",
    "\n",
    "w2 = torch.randn(256, 10)\n",
    "b2 = torch.randn(10)\n",
    "\n",
    "h = activation(torch.mm(inputs, w1) + b1)\n",
    "\n",
    "out = torch.mm(h, w2) + b2"
   ]
  },
  {
   "cell_type": "markdown",
   "metadata": {},
   "source": [
    "This is what one of the images looks like. "
   ]
  },
  {
   "cell_type": "code",
   "execution_count": 67,
   "metadata": {},
   "outputs": [
    {
     "data": {
      "image/png": "[encoded data removed]",
      "text/plain": [
       "<Figure size 432x288 with 1 Axes>"
      ]
     },
     "metadata": {
      "image/png": {
       "height": 248,
       "width": 251
      },
      "needs_background": "light"
     },
     "output_type": "display_data"
    }
   ],
   "source": [
    "plt.imshow(images[1].numpy().squeeze(), cmap='Greys_r');"
   ]
  },
  {
   "cell_type": "markdown",
   "metadata": {},
   "source": [
    "First, let's try to build a simple network for this dataset using weight matrices and matrix multiplications. Then, we'll see how to do it using PyTorch's `nn` module which provides a much more convenient and powerful method for defining network architectures.\n",
    "\n",
    "The networks you've seen so far are called *fully-connected* or *dense* networks. Each unit in one layer is connected to each unit in the next layer. In fully-connected networks, the input to each layer must be a one-dimensional vector (which can be stacked into a 2D tensor as a batch of multiple examples). However, our images are 28x28 2D tensors, so we need to convert them into 1D vectors. Thinking about sizes, we need to convert the batch of images with shape `(64, 1, 28, 28)` to a have a shape of `(64, 784)`, 784 is 28 times 28. This is typically called *flattening*, we flattened the 2D images into 1D vectors.\n",
    "\n",
    "Previously you built a network with one output unit. Here we need 10 output units, one for each digit. We want our network to predict the digit shown in an image, so what we'll do is calculate probabilities that the image is of any one digit or class. This ends up being a discrete probability distribution over the classes (digits) that tells us the most likely class for the image. That means we need 10 output units for the 10 classes (digits). We'll see how to convert the network output into a probability distribution next.\n",
    "\n",
    "> **Exercise:** Flatten the batch of images `images`. Then build a multi-layer network with 784 input units, 256 hidden units, and 10 output units using random tensors for the weights and biases. For now, use a sigmoid activation for the hidden layer. Leave the output layer without an activation, we'll add one that gives us a probability distribution next."
   ]
  },
  {
   "cell_type": "code",
   "execution_count": 68,
   "metadata": {},
   "outputs": [],
   "source": [
    "## Your solution\n",
    "# out = # output of your network, should have shape (64,10)"
   ]
  },
  {
   "cell_type": "markdown",
   "metadata": {},
   "source": [
    "Now we have 10 outputs for our network. We want to pass in an image to our network and get out a probability distribution over the classes that tells us the likely class(es) the image belongs to. Something that looks like this:\n",
    "<img src='assets/image_distribution.png' width=500px>\n",
    "\n",
    "Here we see that the probability for each class is roughly the same. This is representing an untrained network, it hasn't seen any data yet so it just returns a uniform distribution with equal probabilities for each class.\n",
    "\n",
    "To calculate this probability distribution, we often use the [**softmax** function](https://en.wikipedia.org/wiki/Softmax_function). Mathematically this looks like\n",
    "\n",
    "$$\n",
    "\\Large \\sigma(x_i) = \\cfrac{e^{x_i}}{\\sum_k^K{e^{x_k}}}\n",
    "$$\n",
    "\n",
    "What this does is squish each input $x_i$ between 0 and 1 and normalizes the values to give you a proper probability distribution where the probabilites sum up to one.\n",
    "\n",
    "> **Exercise:** Implement a function `softmax` that performs the softmax calculation and returns probability distributions for each example in the batch. Note that you'll need to pay attention to the shapes when doing this. If you have a tensor `a` with shape `(64, 10)` and a tensor `b` with shape `(64,)`, doing `a/b` will give you an error because PyTorch will try to do the division across the columns (called broadcasting) but you'll get a size mismatch. The way to think about this is for each of the 64 examples, you only want to divide by one value, the sum in the denominator. So you need `b` to have a shape of `(64, 1)`. This way PyTorch will divide the 10 values in each row of `a` by the one value in each row of `b`. Pay attention to how you take the sum as well. You'll need to define the `dim` keyword in `torch.sum`. Setting `dim=0` takes the sum across the rows while `dim=1` takes the sum across the columns."
   ]
  },
  {
   "cell_type": "code",
   "execution_count": 69,
   "metadata": {},
   "outputs": [
    {
     "data": {
      "text/plain": [
       "tensor([[2.0264e+07, 1.3033e-01, 2.1454e+16, 1.0320e-02, 2.3461e-05, 8.9850e-04,\n",
       "         8.7287e+06, 5.4875e+06, 2.6407e+02, 6.8727e-03],\n",
       "        [2.3286e+09, 1.3458e+00, 1.0150e+13, 1.2709e+02, 1.3067e-08, 8.0725e+01,\n",
       "         8.8466e+02, 2.5558e+01, 1.3707e+04, 6.2759e-04],\n",
       "        [8.4931e+06, 2.0022e-02, 8.0845e+13, 5.4047e-05, 7.8316e-04, 4.3309e-08,\n",
       "         3.5126e+02, 1.8828e+03, 2.7050e+04, 2.6111e+05],\n",
       "        [1.4581e+10, 5.1049e-02, 1.6495e+15, 1.8679e-02, 2.1852e-06, 5.5770e-04,\n",
       "         2.7996e+06, 5.8182e+06, 2.9253e+03, 2.3737e+02],\n",
       "        [4.0752e+04, 1.7242e-04, 5.8858e+15, 7.0886e+00, 8.9936e-03, 2.5845e+00,\n",
       "         2.1192e+05, 3.8431e+01, 9.7562e+02, 1.0193e+00],\n",
       "        [7.8458e+06, 1.0654e-03, 1.1294e+13, 1.0842e-04, 4.7613e-03, 2.6701e-01,\n",
       "         5.3165e+05, 1.0510e+04, 1.1499e+02, 7.5715e-03],\n",
       "        [3.3690e+05, 2.2743e-03, 2.6880e+15, 3.2295e-03, 1.3022e-09, 3.5412e-01,\n",
       "         6.8117e+05, 6.7932e+05, 4.6938e+01, 3.2174e-07],\n",
       "        [2.1136e+07, 2.6008e-05, 2.3021e+11, 1.5870e-01, 1.1816e-09, 1.8104e+04,\n",
       "         1.9770e+07, 2.9508e+04, 1.5947e+04, 3.1505e-05],\n",
       "        [5.7158e+03, 7.5318e-02, 9.9548e+11, 3.4401e-03, 4.4538e-05, 1.4881e-01,\n",
       "         1.0377e+05, 2.3543e+05, 7.9955e+04, 9.5500e-02],\n",
       "        [2.1054e+06, 1.6377e-04, 3.3077e+18, 5.8306e+00, 1.6254e-10, 2.0950e+02,\n",
       "         3.6675e+03, 1.3293e+03, 7.1193e+02, 3.3478e-05],\n",
       "        [3.5819e+01, 7.3317e-05, 1.7465e+13, 5.4896e+03, 3.4321e-04, 7.7631e+01,\n",
       "         3.4692e+01, 2.0869e+06, 2.6500e+02, 2.2312e-02],\n",
       "        [2.6650e+03, 1.4284e-01, 6.3428e+10, 3.8221e-01, 3.1969e-09, 1.8745e-01,\n",
       "         1.1489e+02, 5.8402e+06, 5.8774e+01, 9.8449e-04],\n",
       "        [2.2975e+02, 1.6444e-01, 1.5000e+10, 7.2265e-01, 2.0770e+00, 5.9609e-03,\n",
       "         7.3000e+01, 4.3481e+03, 5.6448e+03, 6.5933e+05],\n",
       "        [3.3974e+07, 1.2495e-04, 6.7803e+05, 7.9019e-02, 2.2740e-03, 9.1473e-02,\n",
       "         9.9421e-03, 1.2575e+03, 7.5753e+04, 1.6168e-01],\n",
       "        [7.8317e+04, 3.1971e+00, 7.0459e+12, 1.7823e+02, 2.2093e-06, 7.7081e-02,\n",
       "         5.4147e+02, 3.7879e+02, 2.7154e+03, 3.8490e+00],\n",
       "        [2.9426e+06, 5.9984e-04, 5.9380e+14, 4.0165e+01, 8.6191e-06, 3.5135e+02,\n",
       "         3.4013e+03, 5.4167e+05, 1.5046e+00, 6.9177e+01],\n",
       "        [7.3679e+00, 3.7259e-09, 1.4979e+12, 1.3107e-03, 1.4777e-04, 3.8416e+02,\n",
       "         3.9958e+07, 3.2103e+06, 8.9022e+04, 1.2171e-02],\n",
       "        [1.9090e+03, 1.9031e-04, 4.2058e+12, 2.0730e-02, 2.1850e-06, 7.2959e-02,\n",
       "         2.2777e+06, 3.9027e+03, 1.7526e+02, 4.9808e+00],\n",
       "        [4.4896e+10, 1.1261e+00, 1.8441e+17, 7.7811e-01, 6.0407e-06, 3.6309e-01,\n",
       "         2.3436e+06, 3.7667e+03, 1.4655e+06, 3.7467e+01],\n",
       "        [3.5747e+06, 9.6214e-02, 7.7975e+14, 1.1709e+03, 1.4719e-02, 1.5380e-03,\n",
       "         1.7280e+05, 3.1096e+03, 9.4299e+04, 2.3093e+03],\n",
       "        [6.2048e+07, 2.4300e+00, 2.2080e+12, 1.3345e+01, 2.0322e-07, 2.3538e+03,\n",
       "         3.5716e+04, 1.3884e+01, 6.7781e+04, 2.6502e-04],\n",
       "        [1.6929e+03, 9.2974e-05, 1.6917e+15, 9.0856e-02, 1.2578e-07, 3.2873e-01,\n",
       "         1.3401e+05, 2.1758e+04, 2.3127e-02, 2.8086e-04],\n",
       "        [3.3950e+06, 1.8413e+00, 6.2348e+13, 6.2139e+02, 7.4677e-09, 9.4144e-03,\n",
       "         1.4528e+04, 4.1370e+03, 2.1209e+01, 2.2326e-03],\n",
       "        [1.8122e+00, 8.3906e-01, 1.5716e+07, 2.0870e+00, 2.3062e-03, 7.2552e-07,\n",
       "         5.8392e-05, 3.3654e+03, 1.4893e-01, 3.0807e+02],\n",
       "        [8.9977e+04, 1.7877e-07, 6.4454e+10, 1.1514e+00, 1.2831e-01, 1.5331e+01,\n",
       "         3.0486e+05, 3.1798e+05, 9.4013e+00, 1.2357e-05],\n",
       "        [1.6606e+09, 3.2928e-02, 4.7444e+13, 3.2109e-03, 2.5945e-04, 9.3706e-01,\n",
       "         1.0430e+05, 3.8713e+05, 9.8109e+02, 7.2693e+00],\n",
       "        [2.5549e+00, 1.7633e-07, 9.7511e+12, 2.4648e-01, 8.9763e-07, 2.2502e+03,\n",
       "         3.8914e+02, 2.5688e+06, 1.6136e+06, 1.8943e-04],\n",
       "        [4.0333e+03, 3.0170e-08, 1.5224e+09, 3.8120e-06, 2.7313e-02, 5.7878e+00,\n",
       "         4.2741e+01, 5.0248e+05, 1.2969e+06, 3.4595e+00],\n",
       "        [8.3630e+05, 1.4694e-02, 7.0172e+08, 3.5780e+00, 2.4845e-08, 8.6219e+00,\n",
       "         1.6294e+02, 1.0372e+03, 9.1277e+01, 1.9088e-03],\n",
       "        [1.5854e+06, 3.5887e-03, 3.2014e+14, 4.2913e-04, 1.3520e-04, 1.7234e-05,\n",
       "         1.7489e+07, 1.0987e+05, 1.2813e+04, 6.5700e-01],\n",
       "        [7.7667e+05, 7.9123e-03, 1.4543e+13, 3.5048e-03, 2.2572e-08, 1.2636e+00,\n",
       "         1.8282e+03, 1.4579e+05, 1.4741e+00, 4.0632e-05],\n",
       "        [3.6158e+05, 2.6161e-03, 8.4393e+07, 9.1967e-04, 2.1305e-08, 5.8074e-03,\n",
       "         1.1229e-02, 1.0185e+04, 1.4827e+04, 2.0453e-06],\n",
       "        [9.0462e+05, 3.6880e-01, 6.3010e+16, 1.5814e-01, 1.4281e-04, 4.2634e+01,\n",
       "         3.5323e+04, 1.4958e+01, 1.1204e+05, 3.3356e-04],\n",
       "        [8.5426e+01, 5.4903e-08, 1.5418e+13, 1.8619e-01, 1.7620e-05, 4.8486e-01,\n",
       "         4.8960e+03, 2.0084e+04, 2.0922e+02, 1.6810e-03],\n",
       "        [1.0152e+07, 1.4155e-04, 1.1847e+15, 3.5130e-04, 2.7256e-03, 1.2483e-04,\n",
       "         3.8174e+03, 8.2467e+06, 4.3882e+05, 1.1007e-03],\n",
       "        [5.6851e+05, 1.2822e-04, 4.4326e+13, 4.8119e-03, 1.3187e-02, 1.8686e+00,\n",
       "         6.7588e+03, 3.4946e+02, 9.9663e+00, 1.1376e+01],\n",
       "        [3.5088e+08, 7.8333e-04, 1.2102e+13, 8.4650e-02, 8.4869e-06, 1.6223e-01,\n",
       "         1.8557e+07, 5.1132e+04, 1.5974e+03, 1.0599e-04],\n",
       "        [4.4689e+08, 2.6343e-02, 6.0102e+12, 3.5234e+00, 1.3121e-03, 1.5680e-03,\n",
       "         2.8269e+04, 6.4188e+00, 2.8519e+01, 3.7560e+01],\n",
       "        [2.4369e+09, 1.1602e-04, 2.8067e+12, 1.5241e-03, 1.0987e-08, 2.0784e+00,\n",
       "         2.6746e+05, 3.5517e+02, 1.8670e+02, 1.8702e-04],\n",
       "        [2.0638e+05, 1.1599e-03, 7.9017e+09, 1.2925e+02, 1.4021e-04, 2.7415e-03,\n",
       "         1.5975e+03, 5.0410e+02, 2.7880e+06, 6.9222e-03],\n",
       "        [5.3407e+06, 1.6693e-03, 4.0217e+15, 4.8830e-02, 8.4700e-08, 1.5153e-05,\n",
       "         2.1511e+06, 2.2040e+06, 8.4075e+02, 2.0747e-03],\n",
       "        [2.3842e+06, 2.1621e-03, 3.4871e+12, 3.2151e-05, 5.0500e-06, 1.6447e+01,\n",
       "         3.6353e+03, 1.3203e+08, 1.8379e+04, 5.8074e-05],\n",
       "        [2.8537e+06, 7.3899e-05, 1.3307e+11, 1.2729e-06, 4.5021e-04, 2.1118e-02,\n",
       "         6.6895e+05, 1.0191e+05, 3.4773e+06, 1.1062e-02],\n",
       "        [1.3734e+02, 1.6507e-02, 1.0148e+10, 2.4155e-04, 6.6809e-10, 9.0162e-02,\n",
       "         6.9388e+05, 3.3519e+05, 3.8929e+03, 1.0201e-04],\n",
       "        [4.1733e+05, 2.5811e-04, 7.2368e+15, 2.8801e-01, 2.6845e-02, 4.8564e+00,\n",
       "         2.5621e+03, 2.5830e+03, 6.3097e+03, 5.9312e+02],\n",
       "        [4.5399e+03, 2.6638e-03, 4.5273e+12, 1.2590e-02, 9.8123e-08, 4.1382e+01,\n",
       "         2.5189e+04, 6.2684e+02, 1.8320e-02, 1.2501e-01],\n",
       "        [3.9369e+05, 1.3687e-02, 2.5721e+14, 2.2083e-01, 9.9640e-08, 1.1061e+03,\n",
       "         6.5462e+05, 1.7733e+02, 5.7125e+00, 2.9669e-03],\n",
       "        [2.3154e+08, 3.9159e-04, 3.1685e+17, 5.8323e+01, 4.5627e-02, 8.0813e+02,\n",
       "         3.2663e+06, 1.6160e+04, 4.4955e+07, 1.1693e+02],\n",
       "        [6.1727e+03, 3.1439e-04, 3.2667e+15, 8.4261e-04, 3.3505e-04, 1.5920e-01,\n",
       "         6.4492e+02, 3.5898e+04, 5.1257e+03, 3.4119e-02],\n",
       "        [2.7986e+08, 1.5154e+01, 9.8447e+14, 1.2825e-01, 2.9415e-07, 2.4314e-03,\n",
       "         6.4439e+02, 2.1810e+02, 1.0750e+04, 2.5291e-01],\n",
       "        [2.6065e+06, 1.0481e-05, 2.5278e+12, 9.9014e-02, 4.0256e-06, 5.2657e+03,\n",
       "         3.7647e+09, 2.9680e+01, 3.3696e+04, 3.2525e-04],\n",
       "        [7.3595e+06, 1.5546e-03, 5.2076e+13, 1.8067e-03, 1.2575e-07, 5.2047e-05,\n",
       "         3.1090e+06, 2.1249e+05, 3.7249e+05, 2.1871e-03],\n",
       "        [9.7165e+10, 1.1420e-04, 1.1052e+13, 2.5294e+00, 2.0298e-07, 1.8794e+01,\n",
       "         1.6280e+06, 2.9638e+04, 1.8251e+05, 7.2034e-06],\n",
       "        [3.2607e+05, 4.0329e-01, 4.1835e+17, 1.1492e-01, 3.1200e-07, 8.3753e-03,\n",
       "         2.3152e+04, 3.8033e+06, 5.3133e+02, 4.3849e-05],\n",
       "        [1.0735e+03, 1.1755e-01, 2.2048e+08, 4.1839e-01, 1.4420e-03, 1.5793e-03,\n",
       "         1.5407e+04, 9.3738e+01, 7.5662e+05, 3.0121e+01],\n",
       "        [1.7483e+05, 3.2381e-05, 1.2770e+10, 1.3203e-03, 1.2380e-05, 2.2746e-03,\n",
       "         2.3751e+00, 5.6667e+03, 2.9294e+06, 2.5388e-03],\n",
       "        [3.1174e+07, 1.1226e-02, 8.5579e+12, 9.2506e-04, 1.0344e-06, 3.0424e-04,\n",
       "         3.0841e+06, 2.8300e+04, 6.8284e+06, 3.0306e-02],\n",
       "        [3.6700e+02, 1.4444e+00, 6.2792e+13, 3.5882e-04, 1.3025e-03, 1.5055e-02,\n",
       "         1.5888e+09, 3.3766e+03, 1.1021e+02, 1.1157e-02],\n",
       "        [2.3528e+09, 8.6017e-03, 1.0312e+15, 1.2902e-04, 8.4396e-07, 7.5037e-04,\n",
       "         8.4668e+02, 1.3985e+06, 1.9147e+04, 1.3246e-01],\n",
       "        [1.5426e+03, 1.8300e-06, 1.4304e+11, 1.8262e-04, 1.2521e-04, 2.5571e+00,\n",
       "         8.9116e+06, 2.8979e+04, 6.2989e+02, 1.9630e+00],\n",
       "        [3.5552e+08, 1.2199e-03, 3.7751e+18, 3.4508e-03, 2.4120e-05, 1.7471e-03,\n",
       "         2.2033e+04, 2.0218e+08, 1.6662e+02, 4.7300e-01],\n",
       "        [9.7745e+06, 3.5131e-06, 7.5407e+09, 1.6235e-01, 2.3931e-06, 3.6739e-01,\n",
       "         6.9048e+06, 3.0633e+03, 1.0731e+04, 2.5567e+00],\n",
       "        [4.3573e+05, 9.6536e-07, 3.5021e+12, 6.4405e-04, 1.3317e-05, 6.0308e-02,\n",
       "         4.7942e+00, 8.3354e+02, 4.2899e+07, 3.2725e+00],\n",
       "        [1.2949e+05, 5.8451e-02, 4.2091e+12, 1.7164e-01, 1.1484e-06, 3.5833e-04,\n",
       "         1.2364e+04, 1.3090e+00, 3.0576e+02, 1.3613e-03]])"
      ]
     },
     "execution_count": 69,
     "metadata": {},
     "output_type": "execute_result"
    }
   ],
   "source": [
    "torch.exp(out)"
   ]
  },
  {
   "cell_type": "code",
   "execution_count": 70,
   "metadata": {},
   "outputs": [
    {
     "data": {
      "text/plain": [
       "torch.Size([64, 10])"
      ]
     },
     "execution_count": 70,
     "metadata": {},
     "output_type": "execute_result"
    }
   ],
   "source": [
    "torch.exp(out).shape"
   ]
  },
  {
   "cell_type": "code",
   "execution_count": 71,
   "metadata": {},
   "outputs": [
    {
     "data": {
      "text/plain": [
       "tensor([[2.1454e+16],\n",
       "        [1.0152e+13],\n",
       "        [8.0845e+13],\n",
       "        [1.6495e+15],\n",
       "        [5.8858e+15],\n",
       "        [1.1294e+13],\n",
       "        [2.6880e+15],\n",
       "        [2.3025e+11],\n",
       "        [9.9548e+11],\n",
       "        [3.3077e+18],\n",
       "        [1.7465e+13],\n",
       "        [6.3434e+10],\n",
       "        [1.5000e+10],\n",
       "        [3.4729e+07],\n",
       "        [7.0459e+12],\n",
       "        [5.9380e+14],\n",
       "        [1.4979e+12],\n",
       "        [4.2058e+12],\n",
       "        [1.8441e+17],\n",
       "        [7.7975e+14],\n",
       "        [2.2080e+12],\n",
       "        [1.6917e+15],\n",
       "        [6.2348e+13],\n",
       "        [1.5720e+07],\n",
       "        [6.4455e+10],\n",
       "        [4.7446e+13],\n",
       "        [9.7511e+12],\n",
       "        [1.5242e+09],\n",
       "        [7.0256e+08],\n",
       "        [3.2014e+14],\n",
       "        [1.4543e+13],\n",
       "        [8.4780e+07],\n",
       "        [6.3010e+16],\n",
       "        [1.5418e+13],\n",
       "        [1.1847e+15],\n",
       "        [4.4326e+13],\n",
       "        [1.2102e+13],\n",
       "        [6.0106e+12],\n",
       "        [2.8091e+12],\n",
       "        [7.9047e+09],\n",
       "        [4.0217e+15],\n",
       "        [3.4872e+12],\n",
       "        [1.3308e+11],\n",
       "        [1.0149e+10],\n",
       "        [7.2368e+15],\n",
       "        [4.5273e+12],\n",
       "        [2.5721e+14],\n",
       "        [3.1685e+17],\n",
       "        [3.2667e+15],\n",
       "        [9.8447e+14],\n",
       "        [2.5316e+12],\n",
       "        [5.2076e+13],\n",
       "        [1.1150e+13],\n",
       "        [4.1835e+17],\n",
       "        [2.2125e+08],\n",
       "        [1.2773e+10],\n",
       "        [8.5580e+12],\n",
       "        [6.2793e+13],\n",
       "        [1.0312e+15],\n",
       "        [1.4305e+11],\n",
       "        [3.7751e+18],\n",
       "        [7.5574e+09],\n",
       "        [3.5022e+12],\n",
       "        [4.2091e+12]])"
      ]
     },
     "execution_count": 71,
     "metadata": {},
     "output_type": "execute_result"
    }
   ],
   "source": [
    "torch.sum(torch.exp(out), dim=1).view(64,1)"
   ]
  },
  {
   "cell_type": "code",
   "execution_count": 72,
   "metadata": {},
   "outputs": [
    {
     "data": {
      "text/plain": [
       "torch.Size([10])"
      ]
     },
     "execution_count": 72,
     "metadata": {},
     "output_type": "execute_result"
    }
   ],
   "source": [
    "torch.sum(torch.exp(out), dim=0).shape"
   ]
  },
  {
   "cell_type": "code",
   "execution_count": 73,
   "metadata": {},
   "outputs": [
    {
     "name": "stdout",
     "output_type": "stream",
     "text": [
      "torch.Size([64, 10])\n",
      "tensor([1.0000, 1.0000, 1.0000, 1.0000, 1.0000, 1.0000, 1.0000, 1.0000, 1.0000,\n",
      "        1.0000, 1.0000, 1.0000, 1.0000, 1.0000, 1.0000, 1.0000, 1.0000, 1.0000,\n",
      "        1.0000, 1.0000, 1.0000, 1.0000, 1.0000, 1.0000, 1.0000, 1.0000, 1.0000,\n",
      "        1.0000, 1.0000, 1.0000, 1.0000, 1.0000, 1.0000, 1.0000, 1.0000, 1.0000,\n",
      "        1.0000, 1.0000, 1.0000, 1.0000, 1.0000, 1.0000, 1.0000, 1.0000, 1.0000,\n",
      "        1.0000, 1.0000, 1.0000, 1.0000, 1.0000, 1.0000, 1.0000, 1.0000, 1.0000,\n",
      "        1.0000, 1.0000, 1.0000, 1.0000, 1.0000, 1.0000, 1.0000, 1.0000, 1.0000,\n",
      "        1.0000])\n"
     ]
    }
   ],
   "source": [
    "def softmax(x):\n",
    "    ## TODO: Implement the softmax function here\n",
    "    return (torch.exp(out))/torch.sum(torch.exp(out), dim=1).view(64,1)\n",
    "\n",
    "\n",
    "## Udacity Solution. Using -1 is a better option since you don't need to know the number of rows\n",
    "# def softmax(x):\n",
    "#     return torch.exp(x)/torch.sum(torch.exp(x), dim=1).view(-1, 1)\n",
    " \n",
    "# Here, out should be the output of the network in the previous excercise with shape (64,10)\n",
    "probabilities = softmax(out)\n",
    "\n",
    "# Does it have the right shape? Should be (64, 10)\n",
    "print(probabilities.shape)\n",
    "# Does it sum to 1?\n",
    "print(probabilities.sum(dim=1))"
   ]
  },
  {
   "cell_type": "markdown",
   "metadata": {},
   "source": [
    "## Building networks with PyTorch\n",
    "\n",
    "PyTorch provides a module `nn` that makes building networks much simpler. Here I'll show you how to build the same one as above with 784 inputs, 256 hidden units, 10 output units and a softmax output."
   ]
  },
  {
   "cell_type": "code",
   "execution_count": 74,
   "metadata": {},
   "outputs": [],
   "source": [
    "from torch import nn"
   ]
  },
  {
   "cell_type": "code",
   "execution_count": 75,
   "metadata": {},
   "outputs": [],
   "source": [
    "class Network(nn.Module):\n",
    "    def __init__(self):\n",
    "        super().__init__()\n",
    "        \n",
    "        # Inputs to hidden layer linear transformation\n",
    "        self.hidden = nn.Linear(784, 256)\n",
    "        # Output layer, 10 units - one for each digit\n",
    "        self.output = nn.Linear(256, 10)\n",
    "        \n",
    "        # Define sigmoid activation and softmax output \n",
    "        self.sigmoid = nn.Sigmoid()\n",
    "        self.softmax = nn.Softmax(dim=1)\n",
    "        \n",
    "    def forward(self, x):\n",
    "        # Pass the input tensor through each of our operations\n",
    "        x = self.hidden(x)\n",
    "        x = self.sigmoid(x)\n",
    "        x = self.output(x)\n",
    "        x = self.softmax(x)\n",
    "        \n",
    "        return x"
   ]
  },
  {
   "cell_type": "markdown",
   "metadata": {},
   "source": [
    "Let's go through this bit by bit.\n",
    "\n",
    "```python\n",
    "class Network(nn.Module):\n",
    "```\n",
    "\n",
    "Here we're inheriting from `nn.Module`. Combined with `super().__init__()` this creates a class that tracks the architecture and provides a lot of useful methods and attributes. It is mandatory to inherit from `nn.Module` when you're creating a class for your network. The name of the class itself can be anything.\n",
    "\n",
    "```python\n",
    "self.hidden = nn.Linear(784, 256)\n",
    "```\n",
    "\n",
    "This line creates a module for a linear transformation, $x\\mathbf{W} + b$, with 784 inputs and 256 outputs and assigns it to `self.hidden`. The module automatically creates the weight and bias tensors which we'll use in the `forward` method. You can access the weight and bias tensors once the network (`net`) is created with `net.hidden.weight` and `net.hidden.bias`.\n",
    "\n",
    "```python\n",
    "self.output = nn.Linear(256, 10)\n",
    "```\n",
    "\n",
    "Similarly, this creates another linear transformation with 256 inputs and 10 outputs.\n",
    "\n",
    "```python\n",
    "self.sigmoid = nn.Sigmoid()\n",
    "self.softmax = nn.Softmax(dim=1)\n",
    "```\n",
    "\n",
    "Here I defined operations for the sigmoid activation and softmax output. Setting `dim=1` in `nn.Softmax(dim=1)` calculates softmax across the columns.\n",
    "\n",
    "```python\n",
    "def forward(self, x):\n",
    "```\n",
    "\n",
    "PyTorch networks created with `nn.Module` must have a `forward` method defined. It takes in a tensor `x` and passes it through the operations you defined in the `__init__` method.\n",
    "\n",
    "```python\n",
    "x = self.hidden(x)\n",
    "x = self.sigmoid(x)\n",
    "x = self.output(x)\n",
    "x = self.softmax(x)\n",
    "```\n",
    "\n",
    "Here the input tensor `x` is passed through each operation and reassigned to `x`. We can see that the input tensor goes through the hidden layer, then a sigmoid function, then the output layer, and finally the softmax function. It doesn't matter what you name the variables here, as long as the inputs and outputs of the operations match the network architecture you want to build. The order in which you define things in the `__init__` method doesn't matter, but you'll need to sequence the operations correctly in the `forward` method.\n",
    "\n",
    "Now we can create a `Network` object."
   ]
  },
  {
   "cell_type": "code",
   "execution_count": 76,
   "metadata": {},
   "outputs": [
    {
     "data": {
      "text/plain": [
       "Network(\n",
       "  (hidden): Linear(in_features=784, out_features=256, bias=True)\n",
       "  (output): Linear(in_features=256, out_features=10, bias=True)\n",
       "  (sigmoid): Sigmoid()\n",
       "  (softmax): Softmax()\n",
       ")"
      ]
     },
     "execution_count": 76,
     "metadata": {},
     "output_type": "execute_result"
    }
   ],
   "source": [
    "# Create the network and look at it's text representation\n",
    "model = Network()\n",
    "model"
   ]
  },
  {
   "cell_type": "markdown",
   "metadata": {},
   "source": [
    "You can define the network somewhat more concisely and clearly using the `torch.nn.functional` module. This is the most common way you'll see networks defined as many operations are simple element-wise functions. We normally import this module as `F`, `import torch.nn.functional as F`."
   ]
  },
  {
   "cell_type": "code",
   "execution_count": 77,
   "metadata": {},
   "outputs": [],
   "source": [
    "import torch.nn.functional as F\n",
    "\n",
    "class Network(nn.Module):\n",
    "    def __init__(self):\n",
    "        super().__init__()\n",
    "        # Inputs to hidden layer linear transformation\n",
    "        self.hidden = nn.Linear(784, 256)\n",
    "        # Output layer, 10 units - one for each digit\n",
    "        self.output = nn.Linear(256, 10)\n",
    "        \n",
    "    def forward(self, x):\n",
    "        # Hidden layer with sigmoid activation\n",
    "        x = F.sigmoid(self.hidden(x))\n",
    "        # Output layer with softmax activation\n",
    "        x = F.softmax(self.output(x), dim=1)\n",
    "        \n",
    "        return x"
   ]
  },
  {
   "cell_type": "markdown",
   "metadata": {},
   "source": [
    "### Activation functions\n",
    "\n",
    "So far we've only been looking at the sigmoid activation function, but in general any function can be used as an activation function. The only requirement is that for a network to approximate a non-linear function, the activation functions must be non-linear. Here are a few more examples of common activation functions: Tanh (hyperbolic tangent), and ReLU (rectified linear unit).\n",
    "\n",
    "<img src=\"assets/activation.png\" width=700px>\n",
    "\n",
    "In practice, the ReLU function is used almost exclusively as the activation function for hidden layers."
   ]
  },
  {
   "cell_type": "markdown",
   "metadata": {},
   "source": [
    "### Your Turn to Build a Network\n",
    "\n",
    "<img src=\"assets/mlp_mnist.png\" width=600px>\n",
    "\n",
    "> **Exercise:** Create a network with 784 input units, a hidden layer with 128 units and a ReLU activation, then a hidden layer with 64 units and a ReLU activation, and finally an output layer with a softmax activation as shown above. You can use a ReLU activation with the `nn.ReLU` module or `F.relu` function.\n",
    "\n",
    "It's good practice to name your layers by their type of network, for instance 'fc' to represent a fully-connected layer. As you code your solution, use `fc1`, `fc2`, and `fc3` as your layer names."
   ]
  },
  {
   "cell_type": "code",
   "execution_count": 84,
   "metadata": {
    "scrolled": true
   },
   "outputs": [],
   "source": [
    "## Your solution here\n",
    "import torch.nn.functional as F\n",
    "\n",
    "class Network2(nn.Module):\n",
    "    def __init__(self):\n",
    "        super().__init__()\n",
    "        # Inputs to hidden layer linear transformation\n",
    "        self.fc1 = nn.Linear(784, 128)\n",
    "        self.fc2 = nn.Linear(128, 64)\n",
    "        # Output layer, 10 units - one for each digit\n",
    "        self.output = nn.Linear(64, 10)\n",
    "        \n",
    "    def forward(self, x):\n",
    "        # Hidden layer with sigmoid activation\n",
    "        x = F.relu(self.fc1(x))\n",
    "        x = F.relu(self.fc2(x))\n",
    "        # Output layer with softmax activation\n",
    "        x = F.softmax(self.output(x), dim=1)\n",
    "        \n",
    "        return x\n"
   ]
  },
  {
   "cell_type": "markdown",
   "metadata": {},
   "source": [
    "### Initializing weights and biases\n",
    "\n",
    "The weights and such are automatically initialized for you, but it's possible to customize how they are initialized. The weights and biases are tensors attached to the layer you defined, you can get them with `model.fc1.weight` for instance."
   ]
  },
  {
   "cell_type": "code",
   "execution_count": 85,
   "metadata": {},
   "outputs": [
    {
     "name": "stdout",
     "output_type": "stream",
     "text": [
      "Parameter containing:\n",
      "tensor([[-0.0114,  0.0082,  0.0060,  ..., -0.0250,  0.0278,  0.0302],\n",
      "        [ 0.0109,  0.0343,  0.0192,  ...,  0.0220, -0.0035,  0.0337],\n",
      "        [ 0.0284, -0.0207,  0.0138,  ..., -0.0194,  0.0062, -0.0091],\n",
      "        ...,\n",
      "        [ 0.0275,  0.0222,  0.0044,  ...,  0.0069,  0.0152,  0.0003],\n",
      "        [-0.0213,  0.0079,  0.0199,  ..., -0.0167,  0.0238,  0.0161],\n",
      "        [-0.0078,  0.0315, -0.0149,  ...,  0.0176,  0.0048,  0.0048]],\n",
      "       requires_grad=True)\n",
      "Parameter containing:\n",
      "tensor([-2.8486e-02,  1.4306e-02, -3.2997e-02, -3.3139e-02, -2.1711e-02,\n",
      "        -3.3600e-03, -3.1124e-02, -5.0809e-03,  2.1701e-02, -8.6900e-03,\n",
      "         1.2233e-03, -1.7771e-03,  3.2418e-02,  6.2384e-03, -3.1243e-02,\n",
      "        -3.5106e-02,  1.1146e-02,  2.0812e-02, -3.3471e-02, -3.1512e-02,\n",
      "        -5.9558e-03, -2.1879e-02,  1.0456e-02,  2.8135e-02, -7.3728e-03,\n",
      "         2.1628e-02,  4.9676e-03, -2.3197e-05, -6.5485e-03, -2.9859e-03,\n",
      "        -2.3804e-02,  9.4984e-03, -1.3747e-02, -8.1184e-03, -3.0428e-02,\n",
      "         2.4000e-02,  1.7051e-02, -2.7263e-03, -2.7775e-02, -1.9332e-02,\n",
      "        -3.2573e-02,  1.3271e-02,  8.0397e-03, -6.7805e-03,  1.4526e-02,\n",
      "         2.8844e-02,  3.3382e-02, -2.3025e-02, -2.8724e-02, -3.3276e-02,\n",
      "        -1.5750e-02, -1.5386e-02,  3.0695e-02, -1.9725e-02, -3.3607e-02,\n",
      "        -3.3477e-02,  8.8920e-03, -2.6595e-03, -1.9026e-02,  2.3919e-02,\n",
      "         6.4212e-03, -1.7775e-03,  2.2940e-02, -1.5878e-02,  4.0192e-03,\n",
      "        -4.6997e-03,  1.4245e-02, -7.9027e-03,  1.2037e-02, -2.5154e-02,\n",
      "         1.9733e-02, -1.8609e-02, -3.4995e-02, -3.1418e-02,  2.6302e-02,\n",
      "         1.1227e-02, -2.9272e-02,  1.3451e-02,  6.2430e-03,  1.4279e-02,\n",
      "        -2.2100e-02, -3.3220e-03,  1.2996e-02, -2.6344e-02, -3.2175e-02,\n",
      "        -1.6723e-02,  3.1906e-02, -3.0815e-02, -2.3621e-02, -1.3182e-02,\n",
      "        -2.4609e-02, -3.1471e-02, -3.0365e-02, -1.7684e-02,  1.1606e-03,\n",
      "         5.2129e-03, -9.0475e-03,  1.0151e-02, -4.8608e-05,  1.7440e-02,\n",
      "        -2.3940e-02, -2.5467e-03,  1.5742e-02, -3.4398e-02, -3.7280e-03,\n",
      "        -1.2961e-02,  3.0769e-02, -9.8455e-03, -2.7200e-02,  1.4819e-02,\n",
      "        -2.3474e-02, -4.1591e-03, -5.6330e-03,  2.2671e-02,  3.0659e-02,\n",
      "         2.7550e-03,  5.3827e-03, -2.6189e-02,  9.7523e-03, -1.7292e-02,\n",
      "         1.4283e-02,  2.5112e-02,  7.9157e-04,  2.3984e-02, -2.1667e-02,\n",
      "         1.6124e-02, -9.6754e-03,  8.7110e-03], requires_grad=True)\n"
     ]
    }
   ],
   "source": [
    "model = Network2()\n",
    "\n",
    "print(model.fc1.weight)\n",
    "print(model.fc1.bias)"
   ]
  },
  {
   "cell_type": "markdown",
   "metadata": {},
   "source": [
    "For custom initialization, we want to modify these tensors in place. These are actually autograd *Variables*, so we need to get back the actual tensors with `model.fc1.weight.data`. Once we have the tensors, we can fill them with zeros (for biases) or random normal values."
   ]
  },
  {
   "cell_type": "code",
   "execution_count": 86,
   "metadata": {},
   "outputs": [
    {
     "data": {
      "text/plain": [
       "tensor([0., 0., 0., 0., 0., 0., 0., 0., 0., 0., 0., 0., 0., 0., 0., 0., 0., 0., 0., 0., 0., 0., 0., 0.,\n",
       "        0., 0., 0., 0., 0., 0., 0., 0., 0., 0., 0., 0., 0., 0., 0., 0., 0., 0., 0., 0., 0., 0., 0., 0.,\n",
       "        0., 0., 0., 0., 0., 0., 0., 0., 0., 0., 0., 0., 0., 0., 0., 0., 0., 0., 0., 0., 0., 0., 0., 0.,\n",
       "        0., 0., 0., 0., 0., 0., 0., 0., 0., 0., 0., 0., 0., 0., 0., 0., 0., 0., 0., 0., 0., 0., 0., 0.,\n",
       "        0., 0., 0., 0., 0., 0., 0., 0., 0., 0., 0., 0., 0., 0., 0., 0., 0., 0., 0., 0., 0., 0., 0., 0.,\n",
       "        0., 0., 0., 0., 0., 0., 0., 0.])"
      ]
     },
     "execution_count": 86,
     "metadata": {},
     "output_type": "execute_result"
    }
   ],
   "source": [
    "# Set biases to all zeros\n",
    "model.fc1.bias.data.fill_(0)"
   ]
  },
  {
   "cell_type": "code",
   "execution_count": 87,
   "metadata": {},
   "outputs": [
    {
     "data": {
      "text/plain": [
       "tensor([[ 0.0021, -0.0139, -0.0023,  ...,  0.0046,  0.0064,  0.0218],\n",
       "        [-0.0132,  0.0120,  0.0013,  ..., -0.0071, -0.0122, -0.0036],\n",
       "        [-0.0047,  0.0095, -0.0174,  ...,  0.0098,  0.0095, -0.0036],\n",
       "        ...,\n",
       "        [ 0.0044, -0.0196,  0.0014,  ...,  0.0119,  0.0234, -0.0035],\n",
       "        [-0.0091, -0.0027,  0.0098,  ..., -0.0060,  0.0065, -0.0118],\n",
       "        [-0.0077, -0.0033,  0.0058,  ...,  0.0038,  0.0192,  0.0056]])"
      ]
     },
     "execution_count": 87,
     "metadata": {},
     "output_type": "execute_result"
    }
   ],
   "source": [
    "# sample from random normal with standard dev = 0.01\n",
    "model.fc1.weight.data.normal_(std=0.01)"
   ]
  },
  {
   "cell_type": "markdown",
   "metadata": {},
   "source": [
    "### Forward pass\n",
    "\n",
    "Now that we have a network, let's see what happens when we pass in an image."
   ]
  },
  {
   "cell_type": "code",
   "execution_count": 88,
   "metadata": {},
   "outputs": [
    {
     "data": {
      "image/png": "[encoded data removed]",
      "text/plain": [
       "<Figure size 432x648 with 2 Axes>"
      ]
     },
     "metadata": {
      "image/png": {
       "height": 235,
       "width": 424
      },
      "needs_background": "light"
     },
     "output_type": "display_data"
    }
   ],
   "source": [
    "# Grab some data \n",
    "dataiter = iter(trainloader)\n",
    "images, labels = dataiter.next()\n",
    "\n",
    "# Resize images into a 1D vector, new shape is (batch size, color channels, image pixels) \n",
    "images.resize_(64, 1, 784)\n",
    "# or images.resize_(images.shape[0], 1, 784) to automatically get batch size\n",
    "\n",
    "# Forward pass through the network\n",
    "img_idx = 0\n",
    "ps = model.forward(images[img_idx,:])\n",
    "\n",
    "img = images[img_idx]\n",
    "helper.view_classify(img.view(1, 28, 28), ps)"
   ]
  },
  {
   "cell_type": "markdown",
   "metadata": {},
   "source": [
    "As you can see above, our network has basically no idea what this digit is. It's because we haven't trained it yet, all the weights are random!\n",
    "\n",
    "### Using `nn.Sequential`\n",
    "\n",
    "PyTorch provides a convenient way to build networks like this where a tensor is passed sequentially through operations, `nn.Sequential` ([documentation](https://pytorch.org/docs/master/nn.html#torch.nn.Sequential)). Using this to build the equivalent network:"
   ]
  },
  {
   "cell_type": "code",
   "execution_count": 89,
   "metadata": {},
   "outputs": [
    {
     "name": "stdout",
     "output_type": "stream",
     "text": [
      "Sequential(\n",
      "  (0): Linear(in_features=784, out_features=128, bias=True)\n",
      "  (1): ReLU()\n",
      "  (2): Linear(in_features=128, out_features=64, bias=True)\n",
      "  (3): ReLU()\n",
      "  (4): Linear(in_features=64, out_features=10, bias=True)\n",
      "  (5): Softmax()\n",
      ")\n"
     ]
    },
    {
     "data": {
      "image/png": "[encoded data removed]",
      "text/plain": [
       "<Figure size 432x648 with 2 Axes>"
      ]
     },
     "metadata": {
      "image/png": {
       "height": 235,
       "width": 424
      },
      "needs_background": "light"
     },
     "output_type": "display_data"
    }
   ],
   "source": [
    "# Hyperparameters for our network\n",
    "input_size = 784\n",
    "hidden_sizes = [128, 64]\n",
    "output_size = 10\n",
    "\n",
    "# Build a feed-forward network\n",
    "model = nn.Sequential(nn.Linear(input_size, hidden_sizes[0]),\n",
    "                      nn.ReLU(),\n",
    "                      nn.Linear(hidden_sizes[0], hidden_sizes[1]),\n",
    "                      nn.ReLU(),\n",
    "                      nn.Linear(hidden_sizes[1], output_size),\n",
    "                      nn.Softmax(dim=1))\n",
    "print(model)\n",
    "\n",
    "# Forward pass through the network and display output\n",
    "images, labels = next(iter(trainloader))\n",
    "images.resize_(images.shape[0], 1, 784)\n",
    "ps = model.forward(images[0,:])\n",
    "helper.view_classify(images[0].view(1, 28, 28), ps)"
   ]
  },
  {
   "cell_type": "markdown",
   "metadata": {},
   "source": [
    "Here our model is the same as before: 784 input units, a hidden layer with 128 units, ReLU activation, 64 unit hidden layer, another ReLU, then the output layer with 10 units, and the softmax output.\n",
    "\n",
    "The operations are available by passing in the appropriate index. For example, if you want to get first Linear operation and look at the weights, you'd use `model[0]`."
   ]
  },
  {
   "cell_type": "code",
   "execution_count": 90,
   "metadata": {},
   "outputs": [
    {
     "name": "stdout",
     "output_type": "stream",
     "text": [
      "Linear(in_features=784, out_features=128, bias=True)\n"
     ]
    },
    {
     "data": {
      "text/plain": [
       "Parameter containing:\n",
       "tensor([[-0.0110, -0.0208,  0.0246,  ..., -0.0292, -0.0255,  0.0017],\n",
       "        [-0.0128, -0.0150,  0.0035,  ..., -0.0322,  0.0279, -0.0301],\n",
       "        [-0.0331, -0.0187,  0.0354,  ..., -0.0021, -0.0018,  0.0050],\n",
       "        ...,\n",
       "        [ 0.0262,  0.0354,  0.0345,  ...,  0.0289,  0.0251,  0.0200],\n",
       "        [ 0.0163, -0.0252, -0.0153,  ...,  0.0128, -0.0157, -0.0170],\n",
       "        [ 0.0297,  0.0113,  0.0276,  ..., -0.0217, -0.0031, -0.0028]],\n",
       "       requires_grad=True)"
      ]
     },
     "execution_count": 90,
     "metadata": {},
     "output_type": "execute_result"
    }
   ],
   "source": [
    "print(model[0])\n",
    "model[0].weight"
   ]
  },
  {
   "cell_type": "markdown",
   "metadata": {},
   "source": [
    "You can also pass in an `OrderedDict` to name the individual layers and operations, instead of using incremental integers. Note that dictionary keys must be unique, so _each operation must have a different name_."
   ]
  },
  {
   "cell_type": "code",
   "execution_count": 91,
   "metadata": {},
   "outputs": [
    {
     "data": {
      "text/plain": [
       "Sequential(\n",
       "  (fc1): Linear(in_features=784, out_features=128, bias=True)\n",
       "  (relu1): ReLU()\n",
       "  (fc2): Linear(in_features=128, out_features=64, bias=True)\n",
       "  (relu2): ReLU()\n",
       "  (output): Linear(in_features=64, out_features=10, bias=True)\n",
       "  (softmax): Softmax()\n",
       ")"
      ]
     },
     "execution_count": 91,
     "metadata": {},
     "output_type": "execute_result"
    }
   ],
   "source": [
    "from collections import OrderedDict\n",
    "model = nn.Sequential(OrderedDict([\n",
    "                      ('fc1', nn.Linear(input_size, hidden_sizes[0])),\n",
    "                      ('relu1', nn.ReLU()),\n",
    "                      ('fc2', nn.Linear(hidden_sizes[0], hidden_sizes[1])),\n",
    "                      ('relu2', nn.ReLU()),\n",
    "                      ('output', nn.Linear(hidden_sizes[1], output_size)),\n",
    "                      ('softmax', nn.Softmax(dim=1))]))\n",
    "model"
   ]
  },
  {
   "cell_type": "markdown",
   "metadata": {},
   "source": [
    "Now you can access layers either by integer or the name"
   ]
  },
  {
   "cell_type": "code",
   "execution_count": 92,
   "metadata": {},
   "outputs": [
    {
     "name": "stdout",
     "output_type": "stream",
     "text": [
      "Linear(in_features=784, out_features=128, bias=True)\n",
      "Linear(in_features=784, out_features=128, bias=True)\n"
     ]
    }
   ],
   "source": [
    "print(model[0])\n",
    "print(model.fc1)"
   ]
  },
  {
   "cell_type": "markdown",
   "metadata": {},
   "source": [
    "In the next notebook, we'll see how we can train a neural network to accuractly predict the numbers appearing in the MNIST images."
   ]
  },
  {
   "cell_type": "code",
   "execution_count": null,
   "metadata": {},
   "outputs": [],
   "source": []
  }
 ],
 "metadata": {
  "kernelspec": {
   "display_name": "Python 3",
   "language": "python",
   "name": "python3"
  },
  "language_info": {
   "codemirror_mode": {
    "name": "ipython",
    "version": 3
   },
   "file_extension": ".py",
   "mimetype": "text/x-python",
   "name": "python",
   "nbconvert_exporter": "python",
   "pygments_lexer": "ipython3",
   "version": "3.7.3"
  }
 },
 "nbformat": 4,
 "nbformat_minor": 2
}
